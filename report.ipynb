{
 "cells": [
  {
   "cell_type": "markdown",
   "metadata": {},
   "source": [
    "# Project Title"
   ]
  },
  {
   "cell_type": "markdown",
   "metadata": {},
   "source": [
    "Authors:\n",
    "   - Betül Yurtman\n",
    "   \n",
    "   - Sagar Kumar\n",
    "\n",
    "Abstract: *\"Executive Summary. For the final version: Write an executive summary here. Write it when you are mostly finished with the main report. It should summarize the question, with what data and how you answer it, and what the result is.\"*"
   ]
  },
  {
   "cell_type": "markdown",
   "metadata": {},
   "source": [
    "## Introduction\n",
    "\n",
    "In this section describe: \n",
    "\n",
    "- What is the research question(s) you want to answer and why?\n",
    "\n",
    "- With what data you want to answer the question?\n",
    "\n",
    "- Where does the data come from, how was it collected?\n",
    "\n",
    "This text will be replace by your introduction."
   ]
  },
  {
   "cell_type": "markdown",
   "metadata": {},
   "source": [
    "## Data \n",
    "\n",
    "Put the dataset you want to use into this repository and import it in a chunk here. Describe the relevant aspects of the data here. Also some basic data preparation can already happen here. \n",
    "\n",
    "Important: If the dataset is very huge than committing and pushing it may be a problem. In this case do not provide the data but provide a download script or download instructions and loading instructions. \n",
    "\n",
    "This text will be replace by your text about data import."
   ]
  },
  {
   "cell_type": "code",
   "execution_count": null,
   "metadata": {},
   "outputs": [],
   "source": [
    "# Import your data here. "
   ]
  },
  {
   "cell_type": "markdown",
   "metadata": {},
   "source": [
    "## Analysis\n",
    "\n",
    "In this section: \n",
    "\n",
    "Text describing the steps of analysis and some well crafted code chunks with visualization(s) and statistical analyses that assesses the research questions.\n",
    "\n",
    "This text will be replaced by your analysis.   "
   ]
  },
  {
   "cell_type": "code",
   "execution_count": null,
   "metadata": {},
   "outputs": [],
   "source": [
    "# Make a least one visualization here. Make more if needed (usually the case).\n"
   ]
  },
  {
   "cell_type": "code",
   "execution_count": null,
   "metadata": {},
   "outputs": [],
   "source": [
    "# Make a statistical analysis (e.g. a model) here. "
   ]
  },
  {
   "cell_type": "markdown",
   "metadata": {},
   "source": [
    "<!-- There can be more chunks of your choice-->"
   ]
  },
  {
   "cell_type": "markdown",
   "metadata": {},
   "source": [
    "## Conclusion\n",
    "\n",
    "\n",
    "In this section: \n",
    "Derive answers to the question from your analysis\n",
    "\n",
    "Identify limitations of your analysis\n",
    "\n",
    "How reliable are your answers? \n"
   ]
  },
  {
   "cell_type": "markdown",
   "metadata": {},
   "source": [
    "This text will be replaced by your conclusions. "
   ]
  }
 ],
 "metadata": {
  "language_info": {
   "name": "python"
  }
 },
 "nbformat": 4,
 "nbformat_minor": 2
}
